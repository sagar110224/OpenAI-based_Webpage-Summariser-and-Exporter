{
 "cells": [
  {
   "cell_type": "code",
   "execution_count": 3,
   "metadata": {},
   "outputs": [],
   "source": [
    "from langchain_openai import ChatOpenAI\n",
    "from dotenv import load_dotenv\n",
    "import requests\n",
    "from bs4 import BeautifulSoup\n",
    "import re\n",
    "from langchain.docstore.document import Document\n",
    "from langchain.text_splitter import CharacterTextSplitter\n",
    "from langchain_core.prompts import ChatPromptTemplate\n",
    "import getpass\n",
    "import smtplib, ssl\n",
    "from email.message import EmailMessage\n",
    "from email import message\n",
    "from google.oauth2 import service_account\n",
    "from googleapiclient.discovery import build\n",
    "import streamlit as st"
   ]
  },
  {
   "cell_type": "code",
   "execution_count": null,
   "metadata": {},
   "outputs": [],
   "source": []
  },
  {
   "cell_type": "code",
   "execution_count": 4,
   "metadata": {},
   "outputs": [],
   "source": [
    "def extract_text_from_URL(URL):\n",
    "    response=requests.get(URL)\n",
    "    soup=BeautifulSoup(response.text,'html.parser')\n",
    "    paragraphs=soup.find_all('p')\n",
    "    text_list=[]\n",
    "    for p in paragraphs:\n",
    "        p=p.get_text().strip() #removing extra spaces\n",
    "        p=re.sub(r'\\[\\d+\\]','',p)\n",
    "        if p!='\\n':\n",
    "            text_list.append(str(p))\n",
    "    text=' '.join(text_list)\n",
    "    return text"
   ]
  },
  {
   "cell_type": "code",
   "execution_count": 5,
   "metadata": {},
   "outputs": [],
   "source": [
    "def summary_text(text):\n",
    "    model_name='gpt-3.5-turbo'\n",
    "    text_splitter=CharacterTextSplitter.from_tiktoken_encoder(model_name=model_name)\n",
    "    texts=text_splitter.split_text(text)\n",
    "    docs=[Document(page_content=t) for t in texts]\n",
    "    llm=ChatOpenAI(temperature=0,model_name=model_name)\n",
    "    prompt_template=(\"\"\"\n",
    "    Write a concise summary of the following text:\n",
    "    '{text}'\n",
    "    While giving output consider following points:-\n",
    "        - Output text should be in the form of paragraphs\n",
    "        - Remove any extra spaces or unwanted special characters from the output text\n",
    "        - If input contains any promotional sentences like '5% off or Shop Now!, Be the first to grab the offer, Buy one get one free, etc'. Don't consider such sentences while giving the output text.\n",
    "    \"\"\")\n",
    "    prompt=ChatPromptTemplate([\n",
    "        ('system','You are a content writer expert'),\n",
    "        ('human',prompt_template)\n",
    "    ])\n",
    "    # prompt=PromptTemplate(template=prompt_template,input_variables=['text'])\n",
    "    chain=prompt | llm\n",
    "    summary=chain.invoke(docs)\n",
    "    return summary"
   ]
  },
  {
   "cell_type": "code",
   "execution_count": 6,
   "metadata": {},
   "outputs": [],
   "source": [
    "def export_to_word(text,filename):\n",
    "    with open(filename,'w') as f:\n",
    "        f.write(text)"
   ]
  },
  {
   "cell_type": "code",
   "execution_count": 7,
   "metadata": {},
   "outputs": [],
   "source": [
    "def get_email_input():\n",
    "    # sender_email=str(input(\"Sender Email Address: \"))\n",
    "    reciever_email=[]\n",
    "    while True:\n",
    "        reciever=str(input(\"Reciever email address (enter 0 if you dont want to add another email): \"))\n",
    "        if reciever=='0' and len(reciever_email)==0:\n",
    "            print('Enter atleast one reciever email address')\n",
    "            continue\n",
    "        elif reciever=='0' and len(reciever_email)>0:\n",
    "            break\n",
    "        elif reciever=='sagaragarwal2052@gmail.com':\n",
    "            print(\"reciever email can't be same as sender email\")\n",
    "            continue\n",
    "        elif reciever in reciever_email:\n",
    "            print(\"Email already entered\")\n",
    "            continue    \n",
    "        else:\n",
    "            reciever_email.append(reciever)\n",
    "    \n",
    "    # password=getpass.getpass('Enter Password: ')\n",
    "    return reciever_email\n",
    "    "
   ]
  },
  {
   "cell_type": "code",
   "execution_count": 8,
   "metadata": {},
   "outputs": [],
   "source": [
    "def send_mail(reciever_email_list,text):\n",
    "    #Construct Email\n",
    "    message=EmailMessage()\n",
    "    message['From']='sagaragarwal2052@gmail.com'\n",
    "    message['To']=', '.join(reciever_email_list) if len(reciever_email_list)>1 else reciever_email_list[0]\n",
    "    message['Subject']='Summary text'\n",
    "    message.set_content(text)\n",
    "\n",
    "    port=465\n",
    "    # context=ssl.create_default_context()\n",
    "    with smtplib.SMTP_SSL('smtp.gmail.com',port) as server:\n",
    "        server.login('sagaragarwal2052@gmail.com','gcpx gbxu wzbt ldnt')\n",
    "        server.send_message(message)\n",
    "    print('Email sent')"
   ]
  },
  {
   "cell_type": "code",
   "execution_count": null,
   "metadata": {},
   "outputs": [],
   "source": [
    "if __name__=='__main__':\n",
    "    load_dotenv()\n",
    "    url=str(input('Enter URL:'))\n",
    "    print('Extracting content...')\n",
    "    raw_text=extract_text_from_URL(url)\n",
    "\n",
    "    print('Summarizing...')\n",
    "    summary=summary_text(raw_text)\n",
    "    print(summary.content)\n",
    "    print('Exporting to word file...')\n",
    "    export_to_word(summary.content,'summary.docx')\n",
    "    print('Sending Email...')\n",
    "    reciever_emails=get_email_input()\n",
    "    send_mail(reciever_emails,summary.content)"
   ]
  },
  {
   "cell_type": "code",
   "execution_count": null,
   "metadata": {},
   "outputs": [],
   "source": []
  }
 ],
 "metadata": {
  "kernelspec": {
   "display_name": "myenv_LLM",
   "language": "python",
   "name": "python3"
  },
  "language_info": {
   "codemirror_mode": {
    "name": "ipython",
    "version": 3
   },
   "file_extension": ".py",
   "mimetype": "text/x-python",
   "name": "python",
   "nbconvert_exporter": "python",
   "pygments_lexer": "ipython3",
   "version": "3.13.2"
  }
 },
 "nbformat": 4,
 "nbformat_minor": 2
}
